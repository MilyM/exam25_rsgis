{
 "cells": [
  {
   "cell_type": "code",
   "execution_count": 10,
   "metadata": {},
   "outputs": [
    {
     "name": "stderr",
     "output_type": "stream",
     "text": [
      "c:\\Users\\kacdu\\miniconda3\\envs\\exam\\lib\\site-packages\\pyogrio\\raw.py:198: UserWarning: Measured (M) geometry types are not supported. Original type 'Measured 3D Point' is converted to 'Point Z'\n",
      "  return ogr_read(\n"
     ]
    },
    {
     "name": "stdout",
     "output_type": "stream",
     "text": [
      "MAE: 2.1805201389567057\n",
      "RMSE: 5.84502912652421\n",
      "Pearson correlation: [1.         0.21430086]\n"
     ]
    }
   ],
   "source": [
    "import numpy as np\n",
    "import geopandas as gpd\n",
    "import rasterio\n",
    "from sklearn.metrics import mean_absolute_error, mean_squared_error\n",
    "import math\n",
    "\n",
    "\n",
    "shp_path = \"E:/AAmagisterka/S2/EXAM_data/files2/Lubin_2024_03_27_pc_t5.shp\"\n",
    "\n",
    "gdf = gpd.read_file(shp_path)\n",
    "\n",
    "\n",
    "pc_x = gdf.geometry.x.values  \n",
    "pc_y = gdf.geometry.y.values  \n",
    "pc_z = gdf.geometry.z.values  \n",
    "\n",
    "\n",
    "num_points = 3000\n",
    "sampled_indices = np.random.choice(len(pc_x), num_points, replace=False)\n",
    "pc_x_sampled = pc_x[sampled_indices]\n",
    "pc_y_sampled = pc_y[sampled_indices]\n",
    "pc_z_sampled = pc_z[sampled_indices]\n",
    "\n",
    "\n",
    "dem_path = \"E:/AAmagisterka/S2/EXAM_data/files1/Lubin_2021_09_26.asc\"\n",
    "\n",
    "\n",
    "with rasterio.open(dem_path) as dem_src:\n",
    "    dem = dem_src.read(1)  \n",
    "    dem_transform = dem_src.transform  \n",
    "\n",
    "\n",
    "rows, cols = zip(*[dem_src.index(x, y) for x, y in zip(pc_x_sampled, pc_y_sampled)])\n",
    "\n",
    "\n",
    "sampled_dem_values = dem[rows, cols]\n",
    "\n",
    "\n",
    "delta_h = pc_z_sampled - sampled_dem_values\n",
    "\n",
    "\n",
    "mae = mean_absolute_error(sampled_dem_values, pc_z_sampled)\n",
    "rmse = math.sqrt(mean_squared_error(sampled_dem_values, pc_z_sampled))\n",
    "corr, _ = np.corrcoef(sampled_dem_values, pc_z_sampled)\n",
    "\n",
    "print(f\"MAE: {mae}\")\n",
    "print(f\"RMSE: {rmse}\")\n",
    "print(f\"Pearson correlation: {corr}\")"
   ]
  }
 ],
 "metadata": {
  "kernelspec": {
   "display_name": "exam",
   "language": "python",
   "name": "python3"
  },
  "language_info": {
   "codemirror_mode": {
    "name": "ipython",
    "version": 3
   },
   "file_extension": ".py",
   "mimetype": "text/x-python",
   "name": "python",
   "nbconvert_exporter": "python",
   "pygments_lexer": "ipython3",
   "version": "3.10.16"
  }
 },
 "nbformat": 4,
 "nbformat_minor": 2
}

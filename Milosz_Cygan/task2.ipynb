{
 "cells": [
  {
   "cell_type": "code",
   "execution_count": 7,
   "metadata": {},
   "outputs": [],
   "source": [
    "import geopandas as gpd\n",
    "import rasterio\n",
    "import numpy as np\n",
    "import random"
   ]
  },
  {
   "cell_type": "code",
   "execution_count": 8,
   "metadata": {},
   "outputs": [],
   "source": [
    "shp = r'C:\\egzamin\\data\\Lubin_2024_03_27_pc_t1.shp' \n",
    "asc = r'C:\\egzamin\\data\\Lubin_2021_06_03.asc'"
   ]
  },
  {
   "cell_type": "code",
   "execution_count": 9,
   "metadata": {},
   "outputs": [
    {
     "name": "stderr",
     "output_type": "stream",
     "text": [
      "c:\\Users\\Milosz\\miniconda3\\envs\\exam\\lib\\site-packages\\pyogrio\\raw.py:198: UserWarning: Measured (M) geometry types are not supported. Original type 'Measured 3D Point' is converted to 'Point Z'\n",
      "  return ogr_read(\n"
     ]
    }
   ],
   "source": [
    "points = gpd.read_file(shp)"
   ]
  },
  {
   "cell_type": "code",
   "execution_count": 18,
   "metadata": {},
   "outputs": [],
   "source": [
    "sample_size = min(5000, len(points))  \n",
    "points_sampled = points.sample(n=sample_size, random_state=42)\n"
   ]
  },
  {
   "cell_type": "code",
   "execution_count": 19,
   "metadata": {},
   "outputs": [],
   "source": [
    "with rasterio.open(asc) as src:\n",
    "    dem_data = src.read(1) \n",
    "    dem_transform = src.transform\n",
    "\n",
    "    coords = [(geom.x, geom.y) for geom in points_sampled.geometry]\n",
    "\n",
    "    dem_values = [val[0] for val in src.sample(coords)]"
   ]
  },
  {
   "cell_type": "code",
   "execution_count": 20,
   "metadata": {},
   "outputs": [],
   "source": [
    "points_sampled[\"DEM_z\"] = dem_values"
   ]
  },
  {
   "cell_type": "code",
   "execution_count": 21,
   "metadata": {},
   "outputs": [],
   "source": [
    "if points_sampled.geometry.iloc[0].has_z:\n",
    "    points_sampled[\"Z_diff\"] = points_sampled.geometry.apply(lambda p: p.z) - points_sampled[\"DEM_z\"]"
   ]
  },
  {
   "cell_type": "code",
   "execution_count": 22,
   "metadata": {},
   "outputs": [],
   "source": [
    "deltaH = points_sampled[\"Z_diff\"]\n",
    "ME = np.mean(deltaH)\n",
    "MAE = np.mean(np.abs(deltaH))\n",
    "STD = np.std(deltaH) \n",
    "RMSE = np.sqrt(np.mean(deltaH**2)) "
   ]
  },
  {
   "cell_type": "code",
   "execution_count": 25,
   "metadata": {},
   "outputs": [
    {
     "name": "stdout",
     "output_type": "stream",
     "text": [
      "ME: 3.99 m\n",
      "MAE: 4.30 m\n",
      "STD: 8.52 m\n",
      "RMSE: 9.41 m\n"
     ]
    }
   ],
   "source": [
    "print(f\"ME: {ME:.2f} m\")\n",
    "print(f\"MAE: {MAE:.2f} m\")\n",
    "print(f\"STD: {STD:.2f} m\")\n",
    "print(f\"RMSE: {RMSE:.2f} m\")"
   ]
  },
  {
   "cell_type": "code",
   "execution_count": null,
   "metadata": {},
   "outputs": [],
   "source": []
  }
 ],
 "metadata": {
  "kernelspec": {
   "display_name": "exam",
   "language": "python",
   "name": "python3"
  },
  "language_info": {
   "codemirror_mode": {
    "name": "ipython",
    "version": 3
   },
   "file_extension": ".py",
   "mimetype": "text/x-python",
   "name": "python",
   "nbconvert_exporter": "python",
   "pygments_lexer": "ipython3",
   "version": "3.10.16"
  }
 },
 "nbformat": 4,
 "nbformat_minor": 2
}

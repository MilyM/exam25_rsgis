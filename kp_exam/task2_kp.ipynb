{
 "cells": [
  {
   "cell_type": "code",
   "execution_count": 28,
   "metadata": {},
   "outputs": [],
   "source": [
    "import geopandas as gpd\n",
    "import rasterio\n",
    "import numpy as np\n",
    "import matplotlib.pyplot as plt"
   ]
  },
  {
   "cell_type": "code",
   "execution_count": 29,
   "metadata": {},
   "outputs": [],
   "source": [
    "# Paths to data\n",
    "dem_path = r'C:\\studia\\sem2\\pytmat_geoscience\\exam\\dane\\DTM\\Lubin_2021_06_03.asc'\n",
    "shapefile_path = r'C:\\studia\\sem2\\pytmat_geoscience\\exam\\dane\\task2\\Lubin_2024_03_27_pc_t2.shp'"
   ]
  },
  {
   "cell_type": "code",
   "execution_count": 30,
   "metadata": {},
   "outputs": [
    {
     "name": "stderr",
     "output_type": "stream",
     "text": [
      "c:\\Users\\kacpe\\.conda\\envs\\exam\\lib\\site-packages\\pyogrio\\raw.py:198: UserWarning: Measured (M) geometry types are not supported. Original type 'Measured 3D Point' is converted to 'Point Z'\n",
      "  return ogr_read(\n"
     ]
    }
   ],
   "source": [
    "# Read Shapefile\n",
    "gdf = gpd.read_file(shapefile_path)"
   ]
  },
  {
   "cell_type": "code",
   "execution_count": 39,
   "metadata": {},
   "outputs": [],
   "source": [
    "# Sample points (max 6666)\n",
    "sample_size = min(6666, len(gdf))\n",
    "points_sampled = gdf.sample(n=sample_size, random_state=42)"
   ]
  },
  {
   "cell_type": "code",
   "execution_count": 40,
   "metadata": {},
   "outputs": [],
   "source": [
    "# Read DEM and sample values\n",
    "with rasterio.open(dem_path) as src:\n",
    "    dem_data = src.read(1)\n",
    "    dem_transform = src.transform\n",
    "    coords = [(geom.x, geom.y) for geom in points_sampled.geometry]\n",
    "    dem_values = [val[0] for val in src.sample(coords)]"
   ]
  },
  {
   "cell_type": "code",
   "execution_count": 41,
   "metadata": {},
   "outputs": [],
   "source": [
    "# Calculate Height Differences\n",
    "points_sampled[\"DEM_z\"] = dem_values\n",
    "if points_sampled.geometry.iloc[0].has_z:\n",
    "    points_sampled[\"Z_diff\"] = points_sampled.geometry.apply(lambda p: p.z) - points_sampled[\"DEM_z\"]\n",
    "\n",
    "deltaH = points_sampled[\"Z_diff\"]"
   ]
  },
  {
   "cell_type": "code",
   "execution_count": 42,
   "metadata": {},
   "outputs": [
    {
     "name": "stdout",
     "output_type": "stream",
     "text": [
      "ME: 2.15 m\n",
      "MAE: 2.46 m\n",
      "STD: 4.19 m\n",
      "RMSE: 4.71 m\n"
     ]
    }
   ],
   "source": [
    "# Accuracy Metrics\n",
    "ME = np.mean(deltaH)\n",
    "MAE = np.mean(np.abs(deltaH))\n",
    "STD = np.std(deltaH)\n",
    "RMSE = np.sqrt(np.mean(deltaH**2))\n",
    "\n",
    "print(f\"ME: {ME:.2f} m\")\n",
    "print(f\"MAE: {MAE:.2f} m\")\n",
    "print(f\"STD: {STD:.2f} m\")\n",
    "print(f\"RMSE: {RMSE:.2f} m\")"
   ]
  },
  {
   "cell_type": "code",
   "execution_count": 43,
   "metadata": {},
   "outputs": [
    {
     "data": {
      "image/png": "[encoded data removed]",
      "text/plain": [
       "<Figure size 640x480 with 1 Axes>"
      ]
     },
     "metadata": {},
     "output_type": "display_data"
    }
   ],
   "source": [
    "# Visualization\n",
    "plt.figure()\n",
    "plt.hist(deltaH.dropna(), bins=50, color='green', edgecolor='black')\n",
    "plt.title('Histogram of Height Differences (ΔH)')\n",
    "plt.xlabel('Height Difference (m)')\n",
    "plt.ylabel('Frequency')\n",
    "plt.show()"
   ]
  }
 ],
 "metadata": {
  "kernelspec": {
   "display_name": "exam",
   "language": "python",
   "name": "python3"
  },
  "language_info": {
   "codemirror_mode": {
    "name": "ipython",
    "version": 3
   },
   "file_extension": ".py",
   "mimetype": "text/x-python",
   "name": "python",
   "nbconvert_exporter": "python",
   "pygments_lexer": "ipython3",
   "version": "3.10.16"
  }
 },
 "nbformat": 4,
 "nbformat_minor": 2
}
